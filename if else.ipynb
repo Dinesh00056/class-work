{
 "cells": [
  {
   "cell_type": "code",
   "execution_count": 4,
   "id": "ef72f04e-a2ff-41b3-912f-23593e31770e",
   "metadata": {},
   "outputs": [
    {
     "name": "stdout",
     "output_type": "stream",
     "text": [
      "my age is 18\n",
      "hey\n"
     ]
    }
   ],
   "source": [
    "age=18\n",
    "if(age==18):\n",
    "    print(\"my age is 18\")\n",
    "print(\"hey\")"
   ]
  },
  {
   "cell_type": "code",
   "execution_count": 5,
   "id": "4b3a4d22-7fce-4a23-b113-e093ef987692",
   "metadata": {},
   "outputs": [
    {
     "name": "stdout",
     "output_type": "stream",
     "text": [
      "mismatched\n",
      "hey\n"
     ]
    }
   ],
   "source": [
    "age=17\n",
    "if(age==18):\n",
    "    print(\"my age is 18\")\n",
    "else:\n",
    "    print(\"mismatched\")\n",
    "print(\"hey\")"
   ]
  },
  {
   "cell_type": "code",
   "execution_count": 36,
   "id": "2a2df482-2b54-4e0a-a135-5a8e448c3911",
   "metadata": {},
   "outputs": [
    {
     "name": "stdout",
     "output_type": "stream",
     "text": [
      "incorrect\n"
     ]
    }
   ],
   "source": [
    "age=51\n",
    "if(age>=10 and age<=18):\n",
    "    print(\"my age is correct\")\n",
    "else:\n",
    "    print(\"incorrect\")"
   ]
  },
  {
   "cell_type": "code",
   "execution_count": 39,
   "id": "06660114-dc4e-490d-9e85-51bbaa9611cf",
   "metadata": {},
   "outputs": [
    {
     "name": "stdout",
     "output_type": "stream",
     "text": [
      "b is greater\n"
     ]
    }
   ],
   "source": [
    "a=10\n",
    "b=200\n",
    "c=50\n",
    "if(a>b and a>c):\n",
    "    print(\"a is greater\")\n",
    "if(b>a and b>c):\n",
    "    print(\"b is greater\")\n",
    "else:\n",
    "    print(\"c is greater\")"
   ]
  },
  {
   "cell_type": "code",
   "execution_count": 41,
   "id": "284ebc74-1275-4ad2-95b9-8ce2923340f2",
   "metadata": {},
   "outputs": [
    {
     "name": "stdout",
     "output_type": "stream",
     "text": [
      "a is smaller\n",
      "c is smaller\n"
     ]
    }
   ],
   "source": [
    "a=10\n",
    "b=200\n",
    "c=50\n",
    "if(a<b and a<c):\n",
    "    print(\"a is smaller\")\n",
    "if(b<a and b<c):\n",
    "    print(\"b is smaller\")\n",
    "else:\n",
    "    print(\"c is smaller\")"
   ]
  },
  {
   "cell_type": "code",
   "execution_count": 45,
   "id": "8af6998c-26cd-4cbc-92b6-c9b69f412340",
   "metadata": {},
   "outputs": [
    {
     "name": "stdout",
     "output_type": "stream",
     "text": [
      "b is greater\n"
     ]
    }
   ],
   "source": [
    "a=10\n",
    "b=486\n",
    "c=55\n",
    "if(a>b and a>c):\n",
    "    print(\"a is gretaer\")\n",
    "elif(b>a and b>c):\n",
    "    print(\"b is greater\")\n",
    "else:\n",
    "    print(\"c is greater\")"
   ]
  },
  {
   "cell_type": "code",
   "execution_count": 49,
   "id": "17e63b23-cd8d-492f-93bb-5130c41cbc3e",
   "metadata": {},
   "outputs": [
    {
     "name": "stdout",
     "output_type": "stream",
     "text": [
      "the no is not divisible\n"
     ]
    }
   ],
   "source": [
    "num=19\n",
    "if(num%2==0):\n",
    "    print(\"the no is divided by 2\")\n",
    "elif(num%3==0):\n",
    "    print(\"the no is divided by 3\")\n",
    "elif(num%6==0):\n",
    "    print(\"the no is divided by 6\")\n",
    "else:\n",
    "    print(\"the no is not divisible\")"
   ]
  },
  {
   "cell_type": "code",
   "execution_count": 52,
   "id": "28a6acd8-8b8c-434f-acba-9a62323a8ca8",
   "metadata": {},
   "outputs": [
    {
     "name": "stdout",
     "output_type": "stream",
     "text": [
      "odd\n"
     ]
    }
   ],
   "source": [
    "num=3\n",
    "if(num%2==0):\n",
    "    print(\"even\")\n",
    "else:\n",
    "    print(\"odd\")"
   ]
  },
  {
   "cell_type": "code",
   "execution_count": 58,
   "id": "f4403a53-269f-4217-93f8-54360eda27be",
   "metadata": {},
   "outputs": [
    {
     "name": "stdout",
     "output_type": "stream",
     "text": [
      "Grade b\n"
     ]
    }
   ],
   "source": [
    "marks=89\n",
    "if(marks>=90):\n",
    "    print(\"grade a\")\n",
    "elif(marks>=80):\n",
    "    print(\"Grade b\")\n",
    "elif(marks>=70):\n",
    "    print(\"Grade c\")\n",
    "elif(marks>=60):\n",
    "    print(\"Grade d\")\n",
    "else:\n",
    "    print(\"garde e\")"
   ]
  },
  {
   "cell_type": "code",
   "execution_count": 61,
   "id": "8a8ec05a-b7b2-4d72-8c11-7d064f5122bb",
   "metadata": {},
   "outputs": [
    {
     "name": "stdout",
     "output_type": "stream",
     "text": [
      "consonants\n"
     ]
    }
   ],
   "source": [
    "ch=\"n\"\n",
    "if(ch==\"a\" or ch==\"e\" or ch==\"i\" or ch==\"o\" or ch==\"u\"):\n",
    " print(\"vowels\")\n",
    "else:\n",
    " print(\"consonants\")"
   ]
  },
  {
   "cell_type": "code",
   "execution_count": 76,
   "id": "e7159f79-2686-4ec8-b87d-fcd9e16d031a",
   "metadata": {},
   "outputs": [
    {
     "name": "stdout",
     "output_type": "stream",
     "text": [
      "child\n"
     ]
    }
   ],
   "source": [
    "age=3\n",
    "if(0>age<1):\n",
    "    print(\"infant\")\n",
    "elif(2>age<4):\n",
    "    print(\"toddler\")\n",
    "elif(5>age<12):\n",
    "    print(\"child\")\n",
    "elif(13>age<19):\n",
    "    print(\"teenager\")\n",
    "elif(20>age<59):\n",
    "    print(\"adult\")\n",
    "else:\n",
    "    print(\"senior\")"
   ]
  },
  {
   "cell_type": "code",
   "execution_count": null,
   "id": "5e501344-8985-4ee9-b115-23b736077f05",
   "metadata": {},
   "outputs": [],
   "source": []
  },
  {
   "cell_type": "code",
   "execution_count": 85,
   "id": "0fbcedb9-30c6-4ea7-a859-97341d37aa99",
   "metadata": {},
   "outputs": [
    {
     "name": "stdout",
     "output_type": "stream",
     "text": [
      "child\n"
     ]
    }
   ],
   "source": [
    "age=11\n",
    "if(age>0 and age<=1):\n",
    "    print(\"infant\")\n",
    "elif(age>=2 and age<=4):\n",
    "    print(\"toddler\")\n",
    "elif(age>=5 and age<=12):\n",
    "    print(\"child\")\n",
    "else:\n",
    "    print(\"senior\")"
   ]
  },
  {
   "cell_type": "code",
   "execution_count": null,
   "id": "4b1b837f-55c8-4b54-a9bb-aef5e4daafe0",
   "metadata": {},
   "outputs": [],
   "source": []
  }
 ],
 "metadata": {
  "kernelspec": {
   "display_name": "Python 3 (ipykernel)",
   "language": "python",
   "name": "python3"
  },
  "language_info": {
   "codemirror_mode": {
    "name": "ipython",
    "version": 3
   },
   "file_extension": ".py",
   "mimetype": "text/x-python",
   "name": "python",
   "nbconvert_exporter": "python",
   "pygments_lexer": "ipython3",
   "version": "3.13.3"
  }
 },
 "nbformat": 4,
 "nbformat_minor": 5
}
