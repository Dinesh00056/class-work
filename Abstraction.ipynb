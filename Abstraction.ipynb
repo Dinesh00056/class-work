{
 "cells": [
  {
   "cell_type": "code",
   "execution_count": 1,
   "id": "c10cabbc-5f3b-49c3-ba1d-56893929a6b2",
   "metadata": {},
   "outputs": [],
   "source": [
    "# Abstraction is a concert in loop that hides  and only shows the essential featres of \n",
    "#  It allows us to focus on what an object how it does it \n",
    "# In a abstraction there is a class that serves as blueprint for other classes we can not create objects directle from abstract class\n",
    "# # >> A decorster @ abstaract method that defines a meyhods in a abstract class but does nit provide there implementation to use abstraction python abc module is typically used"
   ]
  },
  {
   "cell_type": "code",
   "execution_count": 6,
   "id": "357fc5d1-548b-4477-a72d-5f26aad79054",
   "metadata": {},
   "outputs": [
    {
     "name": "stdout",
     "output_type": "stream",
     "text": [
      "Circle area: 78.5\n",
      "Circle perimeter: 31.400000000000002\n"
     ]
    }
   ],
   "source": [
    "from abc import ABC, abstractmethod\n",
    "#Abstract class\n",
    "class Shape(ABC):\n",
    "    @abstractmethod\n",
    "    def area(self):\n",
    "        pass  #abstract method,no implementation\n",
    "    @abstractmethod\n",
    "    def perimeter(self):\n",
    "        pass  #abstract method,no implementation\n",
    "#Concrete class for circle\n",
    "class Circle(Shape):\n",
    "    def __init__(self,radius):\n",
    "        self. radius = radius\n",
    "    def area(self):\n",
    "        return 3.14 * self.radius * self.radius\n",
    "    def perimeter(self):\n",
    "        return 2 * 3.14 * self.radius \n",
    "#using the classes\n",
    "circle = Circle(5)\n",
    "print(\"Circle area:\", circle.area())\n",
    "print(\"Circle perimeter:\", circle. perimeter())"
   ]
  },
  {
   "cell_type": "code",
   "execution_count": 7,
   "id": "6bb1f749-cb37-47d3-b29c-5a252cbb92f3",
   "metadata": {},
   "outputs": [
    {
     "name": "stdout",
     "output_type": "stream",
     "text": [
      "Credit Card Payment of $100 processed.\n",
      "PayPal Payment of $500 processed.\n"
     ]
    }
   ],
   "source": [
    "from abc import ABC, abstractmethod\n",
    "#Abstract class\n",
    "class Payment(ABC):\n",
    "    @abstractmethod\n",
    "    def make_payment(self,amount):\n",
    "        pass\n",
    "#Concrete class for credit card payment\n",
    "class CreditCardPayment(Payment):\n",
    "    def make_payment(self,amount):   \n",
    "        return f\"Credit Card Payment of ${amount} processed.\"\n",
    "#Concrete class for payoal payment\n",
    "class PayPalPayment(Payment):\n",
    "    def make_payment(self,amount):   \n",
    "        return f\"PayPal Payment of ${amount} processed.\"\n",
    "# Using the classss\n",
    "payment1 = CreditCardPayment()\n",
    "print(payment1.make_payment(100))\n",
    "payment2 = PayPalPayment()\n",
    "print(payment2.make_payment(500))\n",
    "\n",
    "        \n",
    "\n",
    "        \n",
    "        "
   ]
  },
  {
   "cell_type": "code",
   "execution_count": 10,
   "id": "87b4bd2b-2dec-4f24-9fe9-e88c8e578b16",
   "metadata": {},
   "outputs": [],
   "source": [
    "# What is encapsulation in OOPS\n",
    "# Encapsulation refer to bundling data and attributes and methods that works on data into in a single unit usually a class\n",
    "\n",
    "# There are two types of attributes\n",
    "# 1> public \n",
    "# 2> Private \n",
    "# Why is Encapsulation is important\n",
    "# An Encapsulation is important because it improves data security by restricting unauthorised excess it promotes modularity by hiding implementing details it enables control over data by providing controlled access through methods it enhance code menatlity and reusability by protecting data from unindent modification "
   ]
  },
  {
   "cell_type": "code",
   "execution_count": 14,
   "id": "41aed199-fba6-4bdf-8273-4c5d84973ead",
   "metadata": {},
   "outputs": [
    {
     "name": "stdout",
     "output_type": "stream",
     "text": [
      "Dinesh\n",
      "5000\n",
      "Deposit successful! New balance: 8000\n",
      "Withdrawl successful! New balance : 6000\n"
     ]
    }
   ],
   "source": [
    "class BankAccount:\n",
    "    def __init__(self, account_holder, balance):\n",
    "        self.__account_holder = account_holder #private attribute\n",
    "        self.__balance = balance #private attribute\n",
    "\n",
    "        #Getter for balance holder\n",
    "    def get_account_holder(self):\n",
    "        return self.__account_holder\n",
    "         #Getter for balance\n",
    "    def get_balance(self):\n",
    "        return self.__balance\n",
    "\n",
    "        #Method for deposit money\n",
    "    def deposit(self, amount):\n",
    "        if amount > 0:\n",
    "            self.__balance += amount\n",
    "            return f\"Deposit successful! New balance: {self.__balance}\"\n",
    "        else: \n",
    "            return \"Invalid  deposit amount!\"\n",
    "\n",
    "        #method to withdraw money\n",
    "    def withdraw(self, amount):\n",
    "        if amount <=self.__balance:\n",
    "            self.__balance -= amount\n",
    "            return f\"Withdrawl successful! New balance : {self.__balance}\"\n",
    "        else:\n",
    "            return \"Insufficient funds!\"\n",
    "# Using the class\n",
    "account = BankAccount(\"Dinesh\",5000)\n",
    "print(account.get_account_holder())\n",
    "print(account.get_balance())\n",
    "print(account.deposit(3000))\n",
    "print(account.withdraw(2000))"
   ]
  },
  {
   "cell_type": "code",
   "execution_count": 16,
   "id": "fb4042cd-db65-4711-b88a-0de7047a3894",
   "metadata": {},
   "outputs": [
    {
     "name": "stdout",
     "output_type": "stream",
     "text": [
      "dinesh\n",
      "85\n",
      "Grade updated successfully !\n",
      "75\n",
      "Invalid grade ! Must be between 0 and 100.\n"
     ]
    }
   ],
   "source": [
    "class Student:\n",
    "    def __init__(self,name,grade):\n",
    "        self.name = name # Public attribute\n",
    "        self.__grade = grade # Public attribute\n",
    "\n",
    "        #Getter for grade\n",
    "    def get_grade(self):\n",
    "        return self.__grade\n",
    "    #Setter for grade(with validation)\n",
    "    def set_grade(self , new_grade):\n",
    "        if 0 <= new_grade <= 100:\n",
    "            self.__grade = new_grade\n",
    "            return \"Grade updated successfully !\"\n",
    "        else:\n",
    "            return \"Invalid grade ! Must be between 0 and 100.\"\n",
    "#Using the class\n",
    "student = Student(\"dinesh\",85)\n",
    "print(student.name)\n",
    "print(student.get_grade())\n",
    "print(student.set_grade(75))\n",
    "print(student.get_grade())\n",
    "## Attempt to set an invalid grade\n",
    "print(student.set_grade(150)) #output: Invalid grade! MUst be between 0 and 100\n"
   ]
  },
  {
   "cell_type": "code",
   "execution_count": null,
   "id": "5213d016-87a1-44a3-bf56-cfca345cc1e4",
   "metadata": {},
   "outputs": [],
   "source": []
  }
 ],
 "metadata": {
  "kernelspec": {
   "display_name": "Python 3 (ipykernel)",
   "language": "python",
   "name": "python3"
  },
  "language_info": {
   "codemirror_mode": {
    "name": "ipython",
    "version": 3
   },
   "file_extension": ".py",
   "mimetype": "text/x-python",
   "name": "python",
   "nbconvert_exporter": "python",
   "pygments_lexer": "ipython3",
   "version": "3.13.3"
  }
 },
 "nbformat": 4,
 "nbformat_minor": 5
}
