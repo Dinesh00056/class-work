{
 "cells": [
  {
   "cell_type": "code",
   "execution_count": 2,
   "id": "4b9958ee-ec63-4800-952d-08282efdb887",
   "metadata": {},
   "outputs": [],
   "source": [
    "# PANDAS\n",
    "# Pandas is an open source library that is used for handle data manipulations"
   ]
  },
  {
   "cell_type": "code",
   "execution_count": 1,
   "id": "3b4c73c4-b3b7-4b65-a73e-4335e9d1250f",
   "metadata": {},
   "outputs": [],
   "source": [
    "import pandas as pd"
   ]
  },
  {
   "cell_type": "code",
   "execution_count": null,
   "id": "1f7ec61a-3a0d-4130-a4f8-661f38647cb2",
   "metadata": {},
   "outputs": [],
   "source": [
    "# Data Structure of Pandas:\n",
    "# (1)...Series...> 1-Dimensional array and it contains only values.\n",
    "# # (2)....DataFrame....> Multidimesional array and it contains values with column name."
   ]
  },
  {
   "cell_type": "code",
   "execution_count": null,
   "id": "b4c51ff7-513c-4720-a57d-b1b5380ed205",
   "metadata": {},
   "outputs": [],
   "source": [
    "# SERIES>>>>>>>>>>.\n"
   ]
  },
  {
   "cell_type": "code",
   "execution_count": 2,
   "id": "91d267b9-2337-4bcb-9d1c-65360ac4b649",
   "metadata": {},
   "outputs": [
    {
     "data": {
      "text/plain": [
       "0     1\n",
       "1    45\n",
       "2    78\n",
       "3    24\n",
       "dtype: int64"
      ]
     },
     "execution_count": 2,
     "metadata": {},
     "output_type": "execute_result"
    }
   ],
   "source": [
    "a=pd.Series([1,45,78,24])\n",
    "a"
   ]
  },
  {
   "cell_type": "code",
   "execution_count": 3,
   "id": "af1d61c2-ec4b-424d-adff-21316946b3d4",
   "metadata": {},
   "outputs": [
    {
     "data": {
      "text/plain": [
       "pandas.core.series.Series"
      ]
     },
     "execution_count": 3,
     "metadata": {},
     "output_type": "execute_result"
    }
   ],
   "source": [
    "type(a)"
   ]
  },
  {
   "cell_type": "code",
   "execution_count": null,
   "id": "75670731-fff4-40b3-8001-95d2f573deb7",
   "metadata": {},
   "outputs": [],
   "source": [
    "# <<<<<<<DATA FRAME>>>>>"
   ]
  },
  {
   "cell_type": "code",
   "execution_count": 7,
   "id": "6dc2d3b6-2a71-4398-b5b7-fd5a4819183b",
   "metadata": {},
   "outputs": [
    {
     "data": {
      "text/html": [
       "<div>\n",
       "<style scoped>\n",
       "    .dataframe tbody tr th:only-of-type {\n",
       "        vertical-align: middle;\n",
       "    }\n",
       "\n",
       "    .dataframe tbody tr th {\n",
       "        vertical-align: top;\n",
       "    }\n",
       "\n",
       "    .dataframe thead th {\n",
       "        text-align: right;\n",
       "    }\n",
       "</style>\n",
       "<table border=\"1\" class=\"dataframe\">\n",
       "  <thead>\n",
       "    <tr style=\"text-align: right;\">\n",
       "      <th></th>\n",
       "      <th>Emp_ID</th>\n",
       "      <th>Emp_Name</th>\n",
       "      <th>Domain</th>\n",
       "      <th>Working_hours</th>\n",
       "      <th>Salary</th>\n",
       "    </tr>\n",
       "  </thead>\n",
       "  <tbody>\n",
       "    <tr>\n",
       "      <th>0</th>\n",
       "      <td>1</td>\n",
       "      <td>dinesh</td>\n",
       "      <td>IT</td>\n",
       "      <td>9</td>\n",
       "      <td>23000</td>\n",
       "    </tr>\n",
       "    <tr>\n",
       "      <th>1</th>\n",
       "      <td>2</td>\n",
       "      <td>anil</td>\n",
       "      <td>Sales</td>\n",
       "      <td>4</td>\n",
       "      <td>25000</td>\n",
       "    </tr>\n",
       "    <tr>\n",
       "      <th>2</th>\n",
       "      <td>3</td>\n",
       "      <td>kumar</td>\n",
       "      <td>IT</td>\n",
       "      <td>7</td>\n",
       "      <td>31000</td>\n",
       "    </tr>\n",
       "    <tr>\n",
       "      <th>3</th>\n",
       "      <td>4</td>\n",
       "      <td>thind</td>\n",
       "      <td>IT</td>\n",
       "      <td>8</td>\n",
       "      <td>36000</td>\n",
       "    </tr>\n",
       "    <tr>\n",
       "      <th>4</th>\n",
       "      <td>5</td>\n",
       "      <td>raj</td>\n",
       "      <td>sales</td>\n",
       "      <td>5</td>\n",
       "      <td>40000</td>\n",
       "    </tr>\n",
       "  </tbody>\n",
       "</table>\n",
       "</div>"
      ],
      "text/plain": [
       "   Emp_ID Emp_Name Domain  Working_hours  Salary\n",
       "0       1   dinesh     IT              9   23000\n",
       "1       2     anil  Sales              4   25000\n",
       "2       3    kumar     IT              7   31000\n",
       "3       4    thind     IT              8   36000\n",
       "4       5      raj  sales              5   40000"
      ]
     },
     "execution_count": 7,
     "metadata": {},
     "output_type": "execute_result"
    }
   ],
   "source": [
    "a = {\n",
    "    \"Emp_ID\":[1,2,3,4,5],\n",
    "    \"Emp_Name\":[\"dinesh\",\"anil\",\"kumar\",\"thind\",\"raj\"],\n",
    "    \"Domain\":[\"IT\",\"Sales\",\"IT\",\"IT\",\"sales\"],\n",
    "    \"Working_hours\":[9,4,7,8,5],\n",
    "    \"Salary\" : [23000,25000,31000,36000,40000]\n",
    "}\n",
    "df=pd.DataFrame(a)\n",
    "df"
   ]
  },
  {
   "cell_type": "code",
   "execution_count": 8,
   "id": "4d54fb76-0ee3-4069-8f2f-2438a3b7e129",
   "metadata": {},
   "outputs": [],
   "source": [
    "df=pd.DataFrame(a)\n",
    "#df"
   ]
  },
  {
   "cell_type": "code",
   "execution_count": 9,
   "id": "48def03b-e24d-49ba-aa4d-1af683f680d5",
   "metadata": {},
   "outputs": [
    {
     "data": {
      "text/plain": [
       "pandas.core.frame.DataFrame"
      ]
     },
     "execution_count": 9,
     "metadata": {},
     "output_type": "execute_result"
    }
   ],
   "source": [
    "type(df)"
   ]
  },
  {
   "cell_type": "code",
   "execution_count": 14,
   "id": "1bbeb1d2-7583-4b41-a504-bf40686655b2",
   "metadata": {},
   "outputs": [],
   "source": [
    " df.to_csv(\"C:\\\\Users\\\\dell\\\\OneDrive\\\\Desktop\\\\data\\\\emp.data.csv\")  ## To make a folder"
   ]
  },
  {
   "cell_type": "code",
   "execution_count": 16,
   "id": "00f6828f-2bcf-456a-82a9-42567e110e51",
   "metadata": {},
   "outputs": [],
   "source": [
    "df.to_csv(\"C:\\\\Users\\\\dell\\\\OneDrive\\\\Desktop\\\\data\\\\emp.data.csv\",index=False) "
   ]
  },
  {
   "cell_type": "code",
   "execution_count": 12,
   "id": "763c21c6-3523-4a63-8d73-7246feb3de59",
   "metadata": {},
   "outputs": [],
   "source": [
    "# IMPORT DATA>>>>>>>"
   ]
  },
  {
   "cell_type": "code",
   "execution_count": 17,
   "id": "572b2493-a5f4-4666-85ff-a09b648d6ff6",
   "metadata": {},
   "outputs": [],
   "source": [
    "df=pd.read_csv(\"C:\\\\Users\\\\dell\\\\OneDrive\\\\Desktop\\\\data\\\\emp.data.csv\") "
   ]
  },
  {
   "cell_type": "code",
   "execution_count": 18,
   "id": "8254eabe-1136-43c3-b1b8-eff2d7a5e236",
   "metadata": {},
   "outputs": [
    {
     "data": {
      "text/html": [
       "<div>\n",
       "<style scoped>\n",
       "    .dataframe tbody tr th:only-of-type {\n",
       "        vertical-align: middle;\n",
       "    }\n",
       "\n",
       "    .dataframe tbody tr th {\n",
       "        vertical-align: top;\n",
       "    }\n",
       "\n",
       "    .dataframe thead th {\n",
       "        text-align: right;\n",
       "    }\n",
       "</style>\n",
       "<table border=\"1\" class=\"dataframe\">\n",
       "  <thead>\n",
       "    <tr style=\"text-align: right;\">\n",
       "      <th></th>\n",
       "      <th>Emp_ID</th>\n",
       "      <th>Emp_Name</th>\n",
       "      <th>Domain</th>\n",
       "      <th>Working_hours</th>\n",
       "      <th>Salary</th>\n",
       "    </tr>\n",
       "  </thead>\n",
       "  <tbody>\n",
       "    <tr>\n",
       "      <th>0</th>\n",
       "      <td>1</td>\n",
       "      <td>dinesh</td>\n",
       "      <td>IT</td>\n",
       "      <td>9</td>\n",
       "      <td>23000</td>\n",
       "    </tr>\n",
       "    <tr>\n",
       "      <th>1</th>\n",
       "      <td>2</td>\n",
       "      <td>anil</td>\n",
       "      <td>Sales</td>\n",
       "      <td>4</td>\n",
       "      <td>25000</td>\n",
       "    </tr>\n",
       "    <tr>\n",
       "      <th>2</th>\n",
       "      <td>3</td>\n",
       "      <td>kumar</td>\n",
       "      <td>IT</td>\n",
       "      <td>7</td>\n",
       "      <td>31000</td>\n",
       "    </tr>\n",
       "    <tr>\n",
       "      <th>3</th>\n",
       "      <td>4</td>\n",
       "      <td>thind</td>\n",
       "      <td>IT</td>\n",
       "      <td>8</td>\n",
       "      <td>36000</td>\n",
       "    </tr>\n",
       "    <tr>\n",
       "      <th>4</th>\n",
       "      <td>5</td>\n",
       "      <td>raj</td>\n",
       "      <td>sales</td>\n",
       "      <td>5</td>\n",
       "      <td>40000</td>\n",
       "    </tr>\n",
       "  </tbody>\n",
       "</table>\n",
       "</div>"
      ],
      "text/plain": [
       "   Emp_ID Emp_Name Domain  Working_hours  Salary\n",
       "0       1   dinesh     IT              9   23000\n",
       "1       2     anil  Sales              4   25000\n",
       "2       3    kumar     IT              7   31000\n",
       "3       4    thind     IT              8   36000\n",
       "4       5      raj  sales              5   40000"
      ]
     },
     "execution_count": 18,
     "metadata": {},
     "output_type": "execute_result"
    }
   ],
   "source": [
    "df"
   ]
  },
  {
   "cell_type": "code",
   "execution_count": null,
   "id": "c56903e3-9e04-4892-9325-7f4964db7872",
   "metadata": {},
   "outputs": [],
   "source": []
  }
 ],
 "metadata": {
  "kernelspec": {
   "display_name": "Python 3 (ipykernel)",
   "language": "python",
   "name": "python3"
  },
  "language_info": {
   "codemirror_mode": {
    "name": "ipython",
    "version": 3
   },
   "file_extension": ".py",
   "mimetype": "text/x-python",
   "name": "python",
   "nbconvert_exporter": "python",
   "pygments_lexer": "ipython3",
   "version": "3.13.3"
  }
 },
 "nbformat": 4,
 "nbformat_minor": 5
}
