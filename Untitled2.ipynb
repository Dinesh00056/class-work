{
 "cells": [
  {
   "cell_type": "code",
   "execution_count": 1,
   "id": "28cc4a6b-1633-4dd8-8574-b63018a984f7",
   "metadata": {},
   "outputs": [
    {
     "name": "stdout",
     "output_type": "stream",
     "text": [
      "hey\n"
     ]
    }
   ],
   "source": [
    "i=1\n",
    "while(i==1):\n",
    "    print(\"hey\")\n",
    "    i+=1"
   ]
  },
  {
   "cell_type": "code",
   "execution_count": 2,
   "id": "939823e2-d188-4ddd-9852-6ea3cea2e5af",
   "metadata": {},
   "outputs": [
    {
     "name": "stdout",
     "output_type": "stream",
     "text": [
      "hey 1\n",
      "hey 2\n",
      "hey 3\n",
      "hey 4\n"
     ]
    }
   ],
   "source": [
    "i=1\n",
    "while(i<=4):\n",
    "    print(\"hey\",i)\n",
    "    i+=1"
   ]
  },
  {
   "cell_type": "code",
   "execution_count": 4,
   "id": "578de118-cf94-482b-9a31-ea96cf7bb0c7",
   "metadata": {},
   "outputs": [
    {
     "name": "stdout",
     "output_type": "stream",
     "text": [
      "2\n",
      "4\n",
      "6\n",
      "8\n",
      "10\n",
      "12\n",
      "14\n",
      "16\n",
      "18\n",
      "20\n",
      "22\n"
     ]
    }
   ],
   "source": [
    "i=2\n",
    "while(i<=23):\n",
    "    if(i%2==0):\n",
    "     print(i)\n",
    "    i+=1"
   ]
  },
  {
   "cell_type": "code",
   "execution_count": 10,
   "id": "665f72a9-1834-4aa9-a3cc-415b20226bd5",
   "metadata": {},
   "outputs": [
    {
     "name": "stdout",
     "output_type": "stream",
     "text": [
      "47\n",
      "45\n",
      "43\n",
      "41\n",
      "39\n",
      "37\n",
      "35\n",
      "33\n",
      "31\n",
      "29\n",
      "27\n",
      "25\n",
      "23\n",
      "21\n",
      "19\n",
      "17\n",
      "15\n",
      "13\n",
      "11\n",
      "9\n",
      "7\n",
      "5\n"
     ]
    }
   ],
   "source": [
    "i=47\n",
    "while(i>=5):\n",
    " if(i%2!=0):\n",
    "    print(i)\n",
    " i-=1"
   ]
  },
  {
   "cell_type": "code",
   "execution_count": 39,
   "id": "51d2022f-3b51-403c-ae9a-435a2985771d",
   "metadata": {},
   "outputs": [
    {
     "name": "stdout",
     "output_type": "stream",
     "text": [
      "factor 1 1\n",
      "factor 2 2\n",
      "factor 3 4\n",
      "factor 4 8\n"
     ]
    }
   ],
   "source": [
    "i=1\n",
    "num=8\n",
    "factor=0\n",
    "while(i<=num):\n",
    " if(num%i==0):\n",
    "    factor=factor+1\n",
    "    print(\"factor\",factor,i)\n",
    " i+=1\n"
   ]
  },
  {
   "cell_type": "code",
   "execution_count": 1,
   "id": "0eef862f-0539-46d0-85e6-c25abd23d66d",
   "metadata": {},
   "outputs": [
    {
     "name": "stdout",
     "output_type": "stream",
     "text": [
      "1\n",
      "2\n",
      "3\n",
      "6\n"
     ]
    }
   ],
   "source": [
    "num=6\n",
    "for i in range(1,7):\n",
    "    if(num%i==0):\n",
    "        print(i)"
   ]
  },
  {
   "cell_type": "code",
   "execution_count": 5,
   "id": "ec339f98-3015-4dd7-a274-9c0755d87a50",
   "metadata": {},
   "outputs": [
    {
     "name": "stdout",
     "output_type": "stream",
     "text": [
      "26\n"
     ]
    }
   ],
   "source": [
    "i=100\n",
    "count=0\n",
    "while(i>=49):\n",
    "    if(i%2!=0):\n",
    "        count=count+1\n",
    "    i-=1\n",
    "print(count)"
   ]
  },
  {
   "cell_type": "code",
   "execution_count": 7,
   "id": "0cfa1723-aa85-49d1-b948-16fc6aad57ec",
   "metadata": {},
   "outputs": [
    {
     "name": "stdout",
     "output_type": "stream",
     "text": [
      "0 d\n",
      "1 i\n",
      "2 n\n",
      "3 e\n",
      "4 s\n",
      "5 h\n"
     ]
    }
   ],
   "source": [
    "data=\"dinesh\"\n",
    "for i in range(0,len(data)):\n",
    "    print(i,data[i])\n",
    "    "
   ]
  },
  {
   "cell_type": "code",
   "execution_count": 18,
   "id": "e7c488c3-4b50-417f-a459-9066107e1f07",
   "metadata": {},
   "outputs": [
    {
     "name": "stdout",
     "output_type": "stream",
     "text": [
      "vowels i\n",
      "vowels e\n"
     ]
    }
   ],
   "source": [
    "data=\"dinesh\"\n",
    "i=0\n",
    "while(i<len(data)):\n",
    "    if(data[i]==\"a\" or data[i]==\"e\" or data[i]==\"i\" or data[i]==\"u\"):\n",
    "        print(\"vowels\",data[i])\n",
    "   ## else:\n",
    "     ##   print(\"not vowels\")\n",
    "    i+=1"
   ]
  },
  {
   "cell_type": "code",
   "execution_count": null,
   "id": "4e7f4b77-1b3a-4fc1-b6d8-90824ae96d15",
   "metadata": {},
   "outputs": [],
   "source": [
    "num=876\n",
    "while(num>0):\n",
    "    num=num%10\n",
    "    num=num//10\n",
    "    "
   ]
  }
 ],
 "metadata": {
  "kernelspec": {
   "display_name": "Python 3 (ipykernel)",
   "language": "python",
   "name": "python3"
  },
  "language_info": {
   "codemirror_mode": {
    "name": "ipython",
    "version": 3
   },
   "file_extension": ".py",
   "mimetype": "text/x-python",
   "name": "python",
   "nbconvert_exporter": "python",
   "pygments_lexer": "ipython3",
   "version": "3.13.3"
  }
 },
 "nbformat": 4,
 "nbformat_minor": 5
}
