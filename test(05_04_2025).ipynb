{
  "nbformat": 4,
  "nbformat_minor": 0,
  "metadata": {
    "colab": {
      "provenance": []
    },
    "kernelspec": {
      "name": "python3",
      "display_name": "Python 3"
    },
    "language_info": {
      "name": "python"
    }
  },
  "cells": [
    {
      "cell_type": "code",
      "source": [
        "# 1. Remove duplicates from a list without using set.\n",
        "\n",
        "my_list = [2 ,3, 5, 9, 2, 5, 1, 2]\n",
        "\n",
        "updated_list = []\n",
        "\n",
        "for i in my_list:\n",
        "    if i not in updated_list:\n",
        "        updated_list.append(i)\n",
        "print(updated_list)"
      ],
      "metadata": {
        "colab": {
          "base_uri": "https://localhost:8080/"
        },
        "id": "PrMgbWW14H_Z",
        "outputId": "42b231a9-ef2e-4c8e-c451-9e8634ebaa87"
      },
      "execution_count": null,
      "outputs": [
        {
          "output_type": "stream",
          "name": "stdout",
          "text": [
            "[2, 3, 5, 9, 1]\n"
          ]
        }
      ]
    },
    {
      "cell_type": "code",
      "source": [
        "# 2. Write a function that flattens a nested list (e.g., [[1,2],[3,[4,5]],6] → [1,2,3,4,5,6]).\n"
      ],
      "metadata": {
        "id": "6bQUfXCo4H8Y"
      },
      "execution_count": null,
      "outputs": []
    },
    {
      "cell_type": "code",
      "source": [
        "# 3. Rotate a list to the right by k steps (e.g., [1,2,3,4,5], k=2 → [4,5,1,2,3]).\n",
        "a = [1,2,3,4,5]\n",
        "k = 2\n",
        "rotated_list = a[-k:] + a[:-k]\n",
        "print(rotated_list)\n"
      ],
      "metadata": {
        "colab": {
          "base_uri": "https://localhost:8080/"
        },
        "id": "L7kjnrxj4H5-",
        "outputId": "32f7cb0f-0db3-4fd6-ee65-a858374168f9"
      },
      "execution_count": null,
      "outputs": [
        {
          "output_type": "stream",
          "name": "stdout",
          "text": [
            "[4, 5, 1, 2, 3]\n"
          ]
        }
      ]
    },
    {
      "cell_type": "code",
      "source": [
        "# 4. Find all pairs in a list whose sum is equal to a target number.\n",
        "\n",
        "nums = [2, 7, 11, 15, -2, 8, 3]\n",
        "target = 10\n",
        "\n",
        "def find_pairs(nums, target):\n",
        "    seen = []\n",
        "    pairs = []\n",
        "    for num in nums:\n",
        "        remain = target - num\n",
        "\n",
        "        if remain in seen:\n",
        "            pairs.append((remain, num))\n",
        "\n",
        "        seen.append(num)\n",
        "\n",
        "    return pairs\n",
        "\n",
        "\n",
        "\n",
        "pairs = find_pairs(nums, target)\n",
        "print(pairs)\n",
        "# Output: [(7, 3), (2, 8)]\n"
      ],
      "metadata": {
        "colab": {
          "base_uri": "https://localhost:8080/"
        },
        "id": "Bl-ABz_F4H3v",
        "outputId": "3cc27221-97b0-401d-90d6-691cff3ff6fb"
      },
      "execution_count": null,
      "outputs": [
        {
          "output_type": "stream",
          "name": "stdout",
          "text": [
            "[(2, 8), (7, 3)]\n"
          ]
        }
      ]
    },
    {
      "cell_type": "code",
      "source": [
        "#5. Given a list of tuples like [('a',1), ('b',2), ('a',3)], write a function to group values by key into a dictionary.\n",
        "a =  [('a',1), ('b',2), ('a',3)]\n",
        "\n",
        "def group_values(a):\n",
        "  b = {}\n",
        "\n",
        "  for key, value in a:\n",
        "      if key not in b:\n",
        "          b[key] = []\n",
        "      b[key].append(value)\n",
        "  print(b)\n",
        "\n",
        "\n",
        "group_values(a)\n"
      ],
      "metadata": {
        "colab": {
          "base_uri": "https://localhost:8080/"
        },
        "id": "Jqj0WHqN4H0s",
        "outputId": "c89e934e-8560-47eb-854c-ec7208b380f6"
      },
      "execution_count": null,
      "outputs": [
        {
          "output_type": "stream",
          "name": "stdout",
          "text": [
            "{'a': [1, 3], 'b': [2]}\n"
          ]
        }
      ]
    },
    {
      "cell_type": "code",
      "source": [
        "#6. Write a function that takes a list of tuples and returns a tuple with the max sum of its elements.\n",
        "\n",
        "tuples_list = [(1, 2), (3, 4), (5, 6), (7, 8)]\n",
        "\n",
        "\n",
        "def max_sum_tuple(tuples_list):\n",
        "  temp = []\n",
        "\n",
        "  for i in tuples_list:\n",
        "    temp.append(sum(i))\n",
        "\n",
        "  return tuples_list[temp.index(max(temp))]\n",
        "\n",
        "\n",
        "\n",
        "result = max_sum_tuple(tuples_list)\n",
        "print(result)  # Output: (7, 8)\n"
      ],
      "metadata": {
        "colab": {
          "base_uri": "https://localhost:8080/"
        },
        "id": "e8qrwTeR4HyI",
        "outputId": "21177eea-2927-4b36-9c33-1c6df3b3b609"
      },
      "execution_count": null,
      "outputs": [
        {
          "output_type": "stream",
          "name": "stdout",
          "text": [
            "(7, 8)\n"
          ]
        }
      ]
    },
    {
      "cell_type": "code",
      "source": [
        "#7. Count the frequency of each word in a sentence and return a dictionary.\n",
        "a = \"hello world\"\n",
        "b = {}\n",
        "\n",
        "for i in a:\n",
        "    if i not in b:\n",
        "        b[i] = 1\n",
        "    else:\n",
        "        b[i] += 1\n",
        "print(b)"
      ],
      "metadata": {
        "colab": {
          "base_uri": "https://localhost:8080/"
        },
        "id": "Zjt54hAd4Hvz",
        "outputId": "97382435-7046-47e1-a3fd-a9721aeeabd2"
      },
      "execution_count": null,
      "outputs": [
        {
          "output_type": "stream",
          "name": "stdout",
          "text": [
            "{'h': 1, 'e': 1, 'l': 3, 'o': 2, ' ': 1, 'w': 1, 'r': 1, 'd': 1}\n"
          ]
        }
      ]
    },
    {
      "cell_type": "code",
      "source": [
        "#8. Merge two dictionaries. If a key appears in both, sum their values.\n",
        "dict1 = {'a': 1, 'b': 2}\n",
        "dict2 = {'b': 3, 'c': 4}\n",
        "\n",
        "\n",
        "merged_dict = {}\n",
        "\n",
        "for i in dict2:\n",
        "    if i not in dict1:\n",
        "        dict1[i] = dict2[i]\n",
        "    else:\n",
        "        dict1[i] = dict1[i] + dict2[i]\n",
        "print(dict1)\n",
        "\n"
      ],
      "metadata": {
        "colab": {
          "base_uri": "https://localhost:8080/"
        },
        "id": "ZKvmPNoS4Htj",
        "outputId": "fceee288-620c-4a56-83c5-f9fe6394e56f"
      },
      "execution_count": null,
      "outputs": [
        {
          "output_type": "stream",
          "name": "stdout",
          "text": [
            "{'a': 1, 'b': 5, 'c': 4}\n"
          ]
        }
      ]
    },
    {
      "cell_type": "code",
      "source": [
        "#9. Sort a dictionary by its values in descending order.\n"
      ],
      "metadata": {
        "id": "ImCu3t3x4HrP"
      },
      "execution_count": null,
      "outputs": []
    },
    {
      "cell_type": "code",
      "source": [
        "#10. Write a function to invert a dictionary: {1: 'a', 2: 'b'} → {'a': 1, 'b': 2}.\n",
        "d =  {1: 'a', 2: 'b'}\n",
        "inverted_dict = {}\n",
        "\n",
        "for key, value in d.items():\n",
        "    inverted_dict[value] = key\n",
        "\n",
        "print(inverted_dict)\n"
      ],
      "metadata": {
        "colab": {
          "base_uri": "https://localhost:8080/"
        },
        "id": "iVAPUod7s7dT",
        "outputId": "7df9cb5d-fcf2-4690-dccb-89806284dead"
      },
      "execution_count": null,
      "outputs": [
        {
          "output_type": "stream",
          "name": "stdout",
          "text": [
            "{'a': 1, 'b': 2}\n"
          ]
        }
      ]
    },
    {
      "cell_type": "code",
      "source": [
        "#11. Use lambda and map to square each number in a list.\n",
        "\n",
        "a = [1, 2, 3, 4, 5, 6, 7, 8, 9, 10]\n",
        "b = []\n",
        "x = lambda i : i**2\n",
        "b = map(x, a)\n",
        "c = list(b)\n",
        "print(c)\n"
      ],
      "metadata": {
        "colab": {
          "base_uri": "https://localhost:8080/"
        },
        "id": "lNqNsMzy3wfv",
        "outputId": "04b519af-33e8-4b2f-edbc-eb2f121ce6d2"
      },
      "execution_count": null,
      "outputs": [
        {
          "output_type": "stream",
          "name": "stdout",
          "text": [
            "[1, 4, 9, 16, 25, 36, 49, 64, 81, 100]\n"
          ]
        }
      ]
    },
    {
      "cell_type": "code",
      "source": [
        "#12. Use filter and lambda to get all even numbers from a list.\n",
        "\n",
        "num = [1, 4, 9, 16, 25]\n",
        "\n",
        "def even(n):\n",
        "  if(n%2==0):\n",
        "    return True\n",
        "  else:\n",
        "    return False\n",
        "\n",
        "b = list(filter(even, num))\n",
        "print(b)"
      ],
      "metadata": {
        "colab": {
          "base_uri": "https://localhost:8080/"
        },
        "id": "cjgd6ODA3f59",
        "outputId": "42370a93-3612-408f-8e8d-6b37a8e0c337"
      },
      "execution_count": null,
      "outputs": [
        {
          "output_type": "stream",
          "name": "stdout",
          "text": [
            "[4, 16]\n"
          ]
        }
      ]
    },
    {
      "cell_type": "code",
      "source": [
        "#13. Given a list of names, use map to convert each name to Title Case.\n",
        "names = ['john doe', 'jane smith', 'alice cooper', 'bob marley']\n",
        "\n",
        "# Use map with the title() method to convert each name to Title Case\n",
        "updated_names = list(map(lambda name: name.title(), names))\n",
        "\n",
        "print(updated_names)\n",
        "\n",
        "\n",
        "\n"
      ],
      "metadata": {
        "colab": {
          "base_uri": "https://localhost:8080/"
        },
        "id": "dYGmFfEp3ckj",
        "outputId": "1d5f2d87-3c2f-4e09-fb01-20c1ce026036"
      },
      "execution_count": null,
      "outputs": [
        {
          "output_type": "stream",
          "name": "stdout",
          "text": [
            "['John Doe', 'Jane Smith', 'Alice Cooper', 'Bob Marley']\n"
          ]
        }
      ]
    },
    {
      "cell_type": "code",
      "source": [
        "# 14.  Use a function with argument and parameter to find the product of all numbers in a list.\n",
        "def product(x):\n",
        "  product = 1\n",
        "  for i in x:\n",
        "\n",
        "    product *= i\n",
        "  return product\n",
        "\n",
        "a = [1,2,3,4,5]\n",
        "print(product(a))"
      ],
      "metadata": {
        "colab": {
          "base_uri": "https://localhost:8080/"
        },
        "id": "aUGKw8n-37uH",
        "outputId": "47484e1c-0234-4ca4-a36e-4ef8a095a184"
      },
      "execution_count": null,
      "outputs": [
        {
          "output_type": "stream",
          "name": "stdout",
          "text": [
            "120\n"
          ]
        }
      ]
    },
    {
      "cell_type": "code",
      "source": [
        "#15.  Use map() and lambda to combine two lists element-wise into sums.\n",
        "a = [1,2,3,4]\n",
        "b = [5,6,7,8]\n",
        "\n",
        "sum = map(lambda x,y: x+y, a,b)\n",
        "print(list(sum))"
      ],
      "metadata": {
        "colab": {
          "base_uri": "https://localhost:8080/"
        },
        "id": "bxZiBMxq5DZ1",
        "outputId": "acbcfb0a-5a9f-4631-8da7-48cd6a0aef04"
      },
      "execution_count": null,
      "outputs": [
        {
          "output_type": "stream",
          "name": "stdout",
          "text": [
            "[6, 8, 10, 12]\n"
          ]
        }
      ]
    },
    {
      "cell_type": "code",
      "source": [
        "#16. Given a list of dictionaries [{name: \"A\", age: 25},...], use filter() to get only those with age > 30.\n",
        "data = [{\"name\": \"A\", \"age\": 25}, {\"name\": \"B\", \"age\": 17}, {\"name\": \"B\", \"age\": 35}]\n",
        "\n",
        "def age_filter(data):\n",
        "  return data[\"age\"] > 30\n",
        "\n",
        "filtered_data = list(filter(age_filter, data))\n",
        "print(filtered_data)"
      ],
      "metadata": {
        "colab": {
          "base_uri": "https://localhost:8080/"
        },
        "id": "IHuucyiM5iTY",
        "outputId": "4093acfc-7aad-4cf2-f1aa-0e537296a35c"
      },
      "execution_count": null,
      "outputs": [
        {
          "output_type": "stream",
          "name": "stdout",
          "text": [
            "[{'name': 'B', 'age': 35}]\n"
          ]
        }
      ]
    },
    {
      "cell_type": "code",
      "source": [
        "#17. Write a function that finds the first non-repeating character in a string.\n",
        "word = \"hello world\"\n",
        "\n",
        "def first_non_repeating_char(word):\n",
        "    for char in word:\n",
        "        if word.count(char) == 1:\n",
        "            return char\n",
        "    return None\n",
        "\n",
        "print(first_non_repeating_char(word))"
      ],
      "metadata": {
        "colab": {
          "base_uri": "https://localhost:8080/"
        },
        "id": "tS509N-r6SKN",
        "outputId": "dba965b2-d44c-483d-e36a-f352ba5c3056"
      },
      "execution_count": null,
      "outputs": [
        {
          "output_type": "stream",
          "name": "stdout",
          "text": [
            "h\n"
          ]
        }
      ]
    },
    {
      "cell_type": "code",
      "source": [
        "#18. Create a dictionary from two lists, one of keys and one of values.\n",
        "key_list = ['a', 'b', 'c']\n",
        "value_list = [1, 2, 3]\n",
        "my_dict = {}\n",
        "for i in range(len(key_list)):\n",
        "    my_dict[key_list[i]] = value_list[i]\n",
        "\n",
        "print(my_dict)\n"
      ],
      "metadata": {
        "colab": {
          "base_uri": "https://localhost:8080/"
        },
        "id": "gJa8We-M6pcO",
        "outputId": "f5109559-4924-42b0-baf9-b5a195c65c14"
      },
      "execution_count": null,
      "outputs": [
        {
          "output_type": "stream",
          "name": "stdout",
          "text": [
            "{'a': 1, 'b': 2, 'c': 3}\n"
          ]
        }
      ]
    },
    {
      "cell_type": "code",
      "source": [
        "#19. Write a function to check if two lists are anagrams of each other.\n",
        "list1 = [1,2,3,4,5]\n",
        "list2 = [5,4,3,2,1]\n",
        "\n",
        "def check_anagrams(list1, list2):\n",
        "    return sorted(list1) == sorted(list2)\n",
        "\n",
        "print(check_anagrams(list1, list2))"
      ],
      "metadata": {
        "colab": {
          "base_uri": "https://localhost:8080/"
        },
        "id": "A-mrXb2t7Hbi",
        "outputId": "d48c387f-ab52-44e8-d126-a5fa9c4d3817"
      },
      "execution_count": null,
      "outputs": [
        {
          "output_type": "stream",
          "name": "stdout",
          "text": [
            "False\n"
          ]
        }
      ]
    },
    {
      "cell_type": "code",
      "source": [
        "#20. Implement a frequency counter using list comprehension and dictionary.\n",
        "\n",
        "items = ['apple', 'banana', 'orange', 'apple', 'banana', 'banana']\n",
        "\n",
        "\n",
        "frequency_counter = {item: items.count(item) for item in items}\n",
        "\n",
        "print(frequency_counter)\n"
      ],
      "metadata": {
        "colab": {
          "base_uri": "https://localhost:8080/"
        },
        "id": "FlBld8xn7KNz",
        "outputId": "b379aa63-ea53-413a-c85d-70505a25fcaf"
      },
      "execution_count": null,
      "outputs": [
        {
          "output_type": "stream",
          "name": "stdout",
          "text": [
            "{'apple': 2, 'banana': 3, 'orange': 1}\n"
          ]
        }
      ]
    },
    {
      "cell_type": "code",
      "source": [
        "# Case Study: Sales and Inventory Management System\n",
        "# Objective:\n",
        "# Design a Python-based system for a retail company that manages inventory, sales, and profit tracking using Object-Oriented Programming. The company wants to:\n",
        "# Add new products.\n",
        "# Update stock.\n",
        "# Record customer purchases.\n",
        "# Automatically update inventory.\n",
        "# Calculate total revenue and profit per product.\n",
        "\n",
        "# Entities & Structure:\n",
        "# Product: Represents individual items.\n",
        "# Inventory: Manages the collection of products.\n",
        "# SalesRecord: Logs each sale and helps compute revenue and profit.\n",
        "# StoreManager: Interface to interact with all operations.\n"
      ],
      "metadata": {
        "id": "Um6491Eu9WHd"
      },
      "execution_count": null,
      "outputs": []
    }
  ]
}