{
 "cells": [
  {
   "cell_type": "code",
   "execution_count": 1,
   "id": "941f5aea-84d9-4e6a-8745-bc45e2fae188",
   "metadata": {},
   "outputs": [
    {
     "name": "stdout",
     "output_type": "stream",
     "text": [
      "tota= 7\n"
     ]
    }
   ],
   "source": [
    "# lambda function=a lambda function can take any number of argument but can only have one expression\n",
    "# syntax=lambda function :expression\n",
    "# ex.=\n",
    "x=lambda a:a+5\n",
    "print(\"tota=\",x(2))"
   ]
  },
  {
   "cell_type": "code",
   "execution_count": 2,
   "id": "92e6e8de-c724-4a0c-bade-7d193ba253e6",
   "metadata": {},
   "outputs": [
    {
     "name": "stdout",
     "output_type": "stream",
     "text": [
      "tota= 6\n"
     ]
    }
   ],
   "source": [
    "x=lambda a,b:a*b\n",
    "print(\"tota=\",x(2,3))"
   ]
  },
  {
   "cell_type": "code",
   "execution_count": 3,
   "id": "11bff674-8570-4464-9243-0533dda52729",
   "metadata": {},
   "outputs": [
    {
     "name": "stdout",
     "output_type": "stream",
     "text": [
      "tota= 0\n"
     ]
    }
   ],
   "source": [
    "x=lambda a,b,c:a+b-c\n",
    "print(\"tota=\",x(2,3,5))"
   ]
  },
  {
   "cell_type": "code",
   "execution_count": 4,
   "id": "4f2dfcb0-f34e-45c7-bc56-727165b15a53",
   "metadata": {},
   "outputs": [],
   "source": [
    "#Filter Function ==> The filter functions returns an iterator where the items are filtered through a \n",
    "# Function to test, if the item is accepted return true or false"
   ]
  },
  {
   "cell_type": "code",
   "execution_count": 8,
   "id": "db0ea216-124e-456c-a94a-62d8081d3a55",
   "metadata": {},
   "outputs": [
    {
     "name": "stdout",
     "output_type": "stream",
     "text": [
      "[1, 2, 3, '4', '5']\n",
      "[1, 2, 3, 4, 5]\n"
     ]
    }
   ],
   "source": [
    "a=[1,2,3,\"4\",\"5\"]\n",
    "print(a)\n",
    "b=list(map(int,a))\n",
    "print(b)"
   ]
  },
  {
   "cell_type": "code",
   "execution_count": 2,
   "id": "b45ee4b1-c5aa-4155-8623-edc732da8d7f",
   "metadata": {},
   "outputs": [
    {
     "name": "stdout",
     "output_type": "stream",
     "text": [
      "sum: 30\n"
     ]
    }
   ],
   "source": [
    "# 1. *args(non keyword arguments)\n",
    "# *args allows you to pass multiple positional arguments to a function. it collects them into a tuple\n",
    "def add_numbers(*args):\n",
    "    total = sum(args)\n",
    "    print(\"sum:\",total)\n",
    "add_numbers(5,10,15)"
   ]
  },
  {
   "cell_type": "code",
   "execution_count": 3,
   "id": "56b22a03-1f8b-41f1-a08b-7cd3c6b4444c",
   "metadata": {},
   "outputs": [],
   "source": [
    "def add(a,b):\n",
    "    # return a+b\n",
    "    result=add(5,3)\n",
    "    print(result)"
   ]
  },
  {
   "cell_type": "code",
   "execution_count": 6,
   "id": "75730e09-dee5-4f2c-bfb5-07ecfa8594ee",
   "metadata": {},
   "outputs": [
    {
     "name": "stdout",
     "output_type": "stream",
     "text": [
      "420\n"
     ]
    }
   ],
   "source": [
    "def find_max(*args):\n",
    "   return max(args)\n",
    "    \n",
    "print(find_max(10,5,4,23,4,78,5,420))\n"
   ]
  },
  {
   "cell_type": "code",
   "execution_count": 7,
   "id": "c19b3f0f-b789-4f9a-b81c-e60d7ed227d4",
   "metadata": {},
   "outputs": [
    {
     "name": "stdout",
     "output_type": "stream",
     "text": [
      "4\n"
     ]
    }
   ],
   "source": [
    "# count vowels in a given string uaing return\n",
    "def count_vowels(string):\n",
    " vowels=\"aeiouAEIOU\"\n",
    " return sum(1 for char in string if char in vowels)\n",
    "print(count_vowels(\"hello puthon\"))"
   ]
  },
  {
   "cell_type": "code",
   "execution_count": 8,
   "id": "8183b0b2-4b6f-42df-9598-67eddae16395",
   "metadata": {},
   "outputs": [
    {
     "name": "stdout",
     "output_type": "stream",
     "text": [
      "100\n",
      "70\n"
     ]
    }
   ],
   "source": [
    "def shopping_cart(*items,**prices):\n",
    "     total= sum(prices[item] for item in items if item in prices)\n",
    "     return total\n",
    "print(shopping_cart(\"apple\",\"banana\",\"mango\",apple=50,banana=20,mango=30))\n",
    "print(shopping_cart(\"mango\",\"grapes\",mango=30,grapes=40))"
   ]
  },
  {
   "cell_type": "code",
   "execution_count": null,
   "id": "912176f7-f3d9-4156-9c05-1a5f4e13dd5e",
   "metadata": {},
   "outputs": [],
   "source": []
  }
 ],
 "metadata": {
  "kernelspec": {
   "display_name": "Python 3 (ipykernel)",
   "language": "python",
   "name": "python3"
  },
  "language_info": {
   "codemirror_mode": {
    "name": "ipython",
    "version": 3
   },
   "file_extension": ".py",
   "mimetype": "text/x-python",
   "name": "python",
   "nbconvert_exporter": "python",
   "pygments_lexer": "ipython3",
   "version": "3.13.3"
  }
 },
 "nbformat": 4,
 "nbformat_minor": 5
}
