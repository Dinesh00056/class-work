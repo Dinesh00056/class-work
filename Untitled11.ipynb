{
 "cells": [
  {
   "cell_type": "code",
   "execution_count": 1,
   "id": "71d7cb50-fcc7-4c67-b4ab-4e3064ebbddc",
   "metadata": {},
   "outputs": [
    {
     "name": "stdout",
     "output_type": "stream",
     "text": [
      "2\n",
      "4\n",
      "6\n",
      "8\n",
      "10\n"
     ]
    }
   ],
   "source": [
    "i=1\n",
    "while(i<=10):\n",
    "    if(i%2==0):\n",
    "     print(i)\n",
    "    i=i+1"
   ]
  },
  {
   "cell_type": "code",
   "execution_count": 10,
   "id": "ec15e6d5-f8db-41bf-94cb-790b14e831be",
   "metadata": {},
   "outputs": [
    {
     "name": "stdout",
     "output_type": "stream",
     "text": [
      "factor= 1\n",
      "factor= 2\n",
      "factor= 3\n",
      "factor= 4\n",
      "factor= 6\n",
      "factor= 12\n",
      "total factor is=> 6\n"
     ]
    }
   ],
   "source": [
    "num=12\n",
    "i=1\n",
    "totalfactor=0\n",
    "while(i<=num):\n",
    " if(num%i==0):\n",
    "    totalfactor = totalfactor+1\n",
    "    print(\"factor=\",i)\n",
    " i+=1\n",
    "print(\"total factor is=>\",totalfactor)\n",
    "\n"
   ]
  },
  {
   "cell_type": "code",
   "execution_count": 12,
   "id": "9a13de0f-71a9-49c6-8b36-1244fe56bb90",
   "metadata": {},
   "outputs": [
    {
     "ename": "IndentationError",
     "evalue": "unindent does not match any outer indentation level (<string>, line 8)",
     "output_type": "error",
     "traceback": [
      "  \u001b[36mFile \u001b[39m\u001b[32m<string>:8\u001b[39m\n\u001b[31m    \u001b[39m\u001b[31mprint(\"total factor is=>\",totalfactor)\u001b[39m\n                                          ^\n\u001b[31mIndentationError\u001b[39m\u001b[31m:\u001b[39m unindent does not match any outer indentation level\n"
     ]
    }
   ],
   "source": [
    "num=12\n",
    "i=1\n",
    "totalfactor=0\n",
    "while(i<=num):\n",
    "  if(num%i==0):\n",
    "    totalfactor = totalfactor+1\n",
    "  i+=1\n",
    " print(\"total factor is=>\",totalfactor)\n",
    " if(\n",
    "     \n",
    " )\n",
    "print(\"total factor is=>\",total factor)\n",
    "\n"
   ]
  },
  {
   "cell_type": "code",
   "execution_count": 14,
   "id": "6c142561-1a5e-4ac9-a790-cc77ee485dd8",
   "metadata": {},
   "outputs": [
    {
     "name": "stdout",
     "output_type": "stream",
     "text": [
      "1\n",
      "2\n"
     ]
    }
   ],
   "source": [
    "start=1\n",
    "while(start <=5):\n",
    " if(start==3):\n",
    "     break\n",
    " print(start)\n",
    " start+=1"
   ]
  },
  {
   "cell_type": "code",
   "execution_count": 1,
   "id": "900502f0-50c3-405f-a58b-090c6134454f",
   "metadata": {},
   "outputs": [
    {
     "name": "stdout",
     "output_type": "stream",
     "text": [
      "1\n",
      "2\n",
      "4\n",
      "5\n"
     ]
    }
   ],
   "source": [
    "start=1\n",
    "while(start <=5):\n",
    " if(start==3):\n",
    "   start+=1\n",
    "   continue\n",
    " print(start)\n",
    " start+=1\n"
   ]
  },
  {
   "cell_type": "code",
   "execution_count": 2,
   "id": "5689f255-1cc8-49c7-826a-a940713ecb22",
   "metadata": {},
   "outputs": [
    {
     "name": "stdout",
     "output_type": "stream",
     "text": [
      "2\n",
      "3\n",
      "4\n",
      "5\n",
      "6\n",
      "7\n"
     ]
    }
   ],
   "source": [
    "num=8\n",
    "i=2\n",
    "while(i<num):\n",
    "    print(i)\n",
    "    i+=1"
   ]
  },
  {
   "cell_type": "code",
   "execution_count": 17,
   "id": "0ce627e4-9e0f-43f7-9cf2-60b0496e8aa5",
   "metadata": {},
   "outputs": [
    {
     "name": "stdout",
     "output_type": "stream",
     "text": [
      "not prime\n"
     ]
    }
   ],
   "source": [
    "num=12\n",
    "out=0\n",
    "i=2\n",
    "while(i<num):\n",
    " if(num%i==0):\n",
    "   out=1\n",
    "   break\n",
    " i+=1\n",
    "if(out==0):\n",
    " print(\"prime no\")\n",
    "else:\n",
    " print(\"not prime\")\n"
   ]
  },
  {
   "cell_type": "code",
   "execution_count": 19,
   "id": "6e8070e5-42b4-4a2e-aeac-86199024f551",
   "metadata": {},
   "outputs": [
    {
     "name": "stdout",
     "output_type": "stream",
     "text": [
      "0 s a\n",
      "1 a r\n",
      "2 r a\n",
      "3 a s\n",
      "4 z z\n"
     ]
    }
   ],
   "source": [
    "data=\"saraz\"\n",
    "i=0\n",
    "end=3\n",
    "while(i<=4):\n",
    "    print(i, data[i], data[end])\n",
    "    i+=1\n",
    "    end-=1"
   ]
  },
  {
   "cell_type": "code",
   "execution_count": 20,
   "id": "a197f54e-80a3-40b1-9bbf-485e321de061",
   "metadata": {},
   "outputs": [
    {
     "name": "stdout",
     "output_type": "stream",
     "text": [
      "0 s z\n",
      "1 a a\n",
      "2 r r\n",
      "3 a a\n",
      "4 z s\n"
     ]
    }
   ],
   "source": [
    "data=\"saraz\"\n",
    "i=0\n",
    "end=len(data)-1\n",
    "while(i<=len(data)-1):\n",
    "    print(i, data[i], data[end])\n",
    "    i+=1\n",
    "    end-=1"
   ]
  },
  {
   "cell_type": "code",
   "execution_count": null,
   "id": "15bb10ee-61bb-4416-8513-0c1121c34464",
   "metadata": {},
   "outputs": [],
   "source": [
    "data=\"saras\"\n",
    "i=0\n",
    "en"
   ]
  }
 ],
 "metadata": {
  "kernelspec": {
   "display_name": "Python 3 (ipykernel)",
   "language": "python",
   "name": "python3"
  },
  "language_info": {
   "codemirror_mode": {
    "name": "ipython",
    "version": 3
   },
   "file_extension": ".py",
   "mimetype": "text/x-python",
   "name": "python",
   "nbconvert_exporter": "python",
   "pygments_lexer": "ipython3",
   "version": "3.13.3"
  }
 },
 "nbformat": 4,
 "nbformat_minor": 5
}
