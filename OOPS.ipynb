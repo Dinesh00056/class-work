{
 "cells": [
  {
   "cell_type": "code",
   "execution_count": 2,
   "id": "1de8cc7f-99fb-4466-aee1-31c01fd65ac8",
   "metadata": {},
   "outputs": [],
   "source": [
    "# What is OOPS\n",
    "# OOPS is programming  paradigm based on a concept of objects. These objetcs can contain data and functionality .\n"
   ]
  },
  {
   "cell_type": "code",
   "execution_count": 3,
   "id": "6fecd669-2638-497e-96d2-3906afe7566f",
   "metadata": {},
   "outputs": [],
   "source": [
    "# why we use oops\n",
    "# 1. Resuability:- Code can be reuse through the inheritance and classes its reduces  redundancy.\n",
    "# 2. Modelarity:- Programs are divided into objects making them easier to understand and maintain\n",
    "# 3. Data Protection:- Encapsulation  restrict access to certain parts of objects\n",
    "# 4. Flexibility:- Polymorphism allows the same interface to interact with different types of objects"
   ]
  },
  {
   "cell_type": "code",
   "execution_count": 4,
   "id": "7805ba96-fc18-40eb-85e3-12294125c682",
   "metadata": {},
   "outputs": [],
   "source": [
    "# Key concepts\n",
    "# 1. Class:- A class is blueprint for creating objects . It defines a structure to hold data and attributes related to that object\n",
    "# 2. Object:- An object is a instance of a class.It represents a specific entities creating using the class blueprint\n",
    "# 3.Self keyword:- Self is a reference to the current instance of class. It allows us to access the objects attributes and methods. It must be the first parameter in instance matter when calling a function self is passed automatically\n",
    "                 # What happpen if we donot use self:\n",
    "# <<<==>>> What happpen if we donot use self:- If self is not used than the method will not have a way to refer to the object calling it python will raise an error when try to access instant attriburtes and method inside the class as they are not explicity to the instance\n",
    "# 4:Attributes:- Attributes are variable that hold data about an object. They are define inside a class and represent the properties or state of an object\n",
    "# 5. Methods:- Methods are functions define inside a class that opertae on bojects attributes. They define the behaviour of an object"
   ]
  },
  {
   "cell_type": "code",
   "execution_count": 25,
   "id": "b8d880b2-9691-4560-b9fe-8a1fdf4a9d84",
   "metadata": {},
   "outputs": [
    {
     "name": "stdout",
     "output_type": "stream",
     "text": [
      "name of employee is :sam and jobrole is :Frontend Developer\n",
      "name of employee is :rahul and jobrole is :MLOPS engineer\n"
     ]
    },
    {
     "data": {
      "text/plain": [
       "'jaipur'"
      ]
     },
     "execution_count": 25,
     "metadata": {},
     "output_type": "execute_result"
    }
   ],
   "source": [
    "class employee:\n",
    "    location = \"jaipur\"\n",
    "    def __init__(self,name, jobrole):\n",
    "         self.name=name\n",
    "         self.jobrole= jobrole\n",
    "    def getInfo(self):\n",
    "         print(f\"name of employee is :{self.name} and jobrole is :{self.jobrole}\")\n",
    "e = employee(\"sam\",\"Frontend Developer\")\n",
    "e.getInfo()\n",
    "a = employee(\"rahul\",\"MLOPS engineer\")\n",
    "a.getInfo()\n",
    "employee.location"
   ]
  },
  {
   "cell_type": "code",
   "execution_count": 13,
   "id": "aa38ae67-979f-4a2a-9179-7ff1ae4ecbf6",
   "metadata": {},
   "outputs": [
    {
     "name": "stdout",
     "output_type": "stream",
     "text": [
      "12\n",
      "8\n",
      "20\n",
      "5.0\n"
     ]
    }
   ],
   "source": [
    "class Calculator:\n",
    "    def __init__(self,num1,num2):\n",
    "        self.num1 = num1\n",
    "        self.num2 = num2\n",
    "    def add(self):\n",
    "        return self.num1 + self.num2\n",
    "    def subtract(self):\n",
    "        return self.num1 - self.num2\n",
    "    def multiply(self):\n",
    "        return self.num1 * self.num2\n",
    "    def divide(self):\n",
    "        if self.num2 !=0:\n",
    "             return self.num1 / self.num2\n",
    "        else:\n",
    "            return \"Divison by zero is not allowed!\"\n",
    "calc = Calculator(10,2)\n",
    "print(calc.add())\n",
    "print(calc.subtract())\n",
    "print(calc.multiply())\n",
    "print(calc.divide())"
   ]
  },
  {
   "cell_type": "code",
   "execution_count": 17,
   "id": "73aa5644-4e10-45fd-8341-224028f7307f",
   "metadata": {},
   "outputs": [
    {
     "name": "stdout",
     "output_type": "stream",
     "text": [
      "500 deposited. New balance: 1500\n",
      "300 withdrawn. remaining balance:1200\n",
      "account balance for dinesh:1200\n"
     ]
    }
   ],
   "source": [
    "class BankAccount:\n",
    "    def __init__(self,holder_name,balance=0):\n",
    "        self.holder_name = holder_name\n",
    "        self.balance = balance\n",
    "    def deposit(self, amount):\n",
    "        self.balance+= amount\n",
    "        print(f\"{amount} deposited. New balance: {self.balance}\")\n",
    "    def withdraw(self, amount):\n",
    "        if amount<= self.balance:\n",
    "            self.balance -= amount #self.balance = self.balance-amount\n",
    "            print(f\"{amount} withdrawn. remaining balance:{self.balance}\")\n",
    "        else:\n",
    "            print(\"Insuficient funds!\")\n",
    "    def check_balance(self):\n",
    "        return f\"account balance for {self.holder_name}:{self.balance}\"\n",
    "#test the BankAccount class\n",
    "account = BankAccount(\"dinesh\",1000)\n",
    "account. deposit(500)\n",
    "account.withdraw(300)\n",
    "print(account.check_balance())"
   ]
  },
  {
   "cell_type": "code",
   "execution_count": 24,
   "id": "dd61a89f-f6dd-4fe4-904d-34a827dd885d",
   "metadata": {},
   "outputs": [
    {
     "name": "stdout",
     "output_type": "stream",
     "text": [
      "name: Dinesh, Age:20, Marks:95\n",
      "Passed\n"
     ]
    }
   ],
   "source": [
    "class Student:\n",
    "    def __init__(self, name,age,marks):\n",
    "        self.name = name\n",
    "        self.age = age\n",
    "        self.marks = marks\n",
    "    def display_details(self):\n",
    "        print(f\"name: {self.name}, Age:{self.age}, Marks:{self.marks}\")\n",
    "    def has_passed(self):\n",
    "        if self.marks >=40:\n",
    "            return \"Passed\"\n",
    "        else:\n",
    "            return \"Failed\"\n",
    "# Test the student class\n",
    "student = Student(\"Dinesh\",20,95)\n",
    "student.display_details()\n",
    "print(student.has_passed())"
   ]
  },
  {
   "cell_type": "code",
   "execution_count": null,
   "id": "112b9f3e-9b71-4dce-b4d2-cc24349978ca",
   "metadata": {},
   "outputs": [],
   "source": []
  }
 ],
 "metadata": {
  "kernelspec": {
   "display_name": "Python 3 (ipykernel)",
   "language": "python",
   "name": "python3"
  },
  "language_info": {
   "codemirror_mode": {
    "name": "ipython",
    "version": 3
   },
   "file_extension": ".py",
   "mimetype": "text/x-python",
   "name": "python",
   "nbconvert_exporter": "python",
   "pygments_lexer": "ipython3",
   "version": "3.13.3"
  }
 },
 "nbformat": 4,
 "nbformat_minor": 5
}
