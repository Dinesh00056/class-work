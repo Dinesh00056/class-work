{
 "cells": [
  {
   "cell_type": "code",
   "execution_count": 1,
   "id": "e65440b9-5c83-4056-bdc7-8b3acd964e13",
   "metadata": {},
   "outputs": [],
   "source": [
    "<<<<<<<<<<<<<<<Static Method>>>>>>>>>.\n",
    "# A static method is a method that does not operate either the class or the instance it behves likes a regular function  but it define inside th class for logicL LOPING\n",
    "# It is marked with the @staticmethod decorate \n",
    "\n",
    "# <<<<<<<<<FETURES OF STATIC METHOD>>>>>>>>\n",
    "# 1. It does not require self class parameter \n",
    "# 2. Cannot modify class and instance attributes"
   ]
  },
  {
   "cell_type": "code",
   "execution_count": 4,
   "id": "5160d7cf-0266-452b-b614-6480b3eff849",
   "metadata": {},
   "outputs": [
    {
     "name": "stdout",
     "output_type": "stream",
     "text": [
      "Name of employee is dinesh and role is frontenddeveloper\n",
      "this is great job\n",
      "Total = 12\n"
     ]
    }
   ],
   "source": [
    "class Employee:\n",
    "    location = \"jaipur\"\n",
    "\n",
    "    def __init__(self , name, role):\n",
    "        self.name = name\n",
    "        self.role = role\n",
    "\n",
    "    def getInfo(self):\n",
    "        print(f\"Name of employee is {self.name} and role is {self.role}\")\n",
    "    @staticmethod\n",
    "    def NewInfo():\n",
    "        print(f\"this is great job\")\n",
    "        a=5\n",
    "        b=7\n",
    "        c=a+b\n",
    "        print(\"Total =\",c)\n",
    "a=Employee(\"dinesh\",\"frontenddeveloper\")\n",
    "a.getInfo()\n",
    "a.NewInfo()"
   ]
  },
  {
   "cell_type": "code",
   "execution_count": 7,
   "id": "1d2f2487-6024-40c3-b17a-b15ae1abd7e4",
   "metadata": {},
   "outputs": [
    {
     "name": "stdout",
     "output_type": "stream",
     "text": [
      "hello, i am dinesh from the parent class.\n",
      "I am 10 years old from the child class.\n"
     ]
    }
   ],
   "source": [
    "# Super method:- he siuper method is used to call a method from the parent class in the context of inheritance it allows us to avoid explicity refering to the aprent class nad makes the code more maintable\n",
    "# <<<<<<<Features>>>>>>\n",
    "# 1.Excess is parent class methods and attributes usedful in multilevel and multiple inheritance\n",
    "# 2.Helps in avoiding code repitition\n",
    "\n",
    "class Parent:\n",
    "    def __init__(self,name):\n",
    "        self.name=name\n",
    "    def greet(self):\n",
    "        print(f\"hello, i am {self.name} from the parent class.\")\n",
    "class Child(Parent):\n",
    "    def __init__(self,name,age):\n",
    "        super().__init__(name) #call the parent's __init__method\n",
    "        self.age = age\n",
    "    def greet(self):\n",
    "        super().greet()  #call the parent's greet method\n",
    "        print(f\"I am {self.age} years old from the child class.\")\n",
    "#usage\n",
    "child = Child(\"dinesh\",10)\n",
    "child.greet()"
   ]
  },
  {
   "cell_type": "code",
   "execution_count": 9,
   "id": "aafe542f-083a-4afd-a035-59aea1d6fbf1",
   "metadata": {},
   "outputs": [
    {
     "name": "stdout",
     "output_type": "stream",
     "text": [
      "Vehicle is moving\n",
      "Car is moving on four wheels\n",
      "Bike is moving on two wheels\n"
     ]
    }
   ],
   "source": [
    "# <<<<<POLYMORPHISM>>>>\n",
    "# Polymorphism allows objects of different classes to be treated as objects of a common superclass it enables a single interface to represent different underline forms this makes the call more flexible reusable and easier to extend \n",
    "class Vehicle:\n",
    "    def move(self):\n",
    "        print(\"Vehicle is moving\")\n",
    "class Car(Vehicle):\n",
    "    def move(self):\n",
    "        print(\"Car is moving on four wheels\")\n",
    "class Bike(Vehicle):\n",
    "    def move(self):\n",
    "        print(\"Bike is moving on two wheels\")\n",
    "#Instances\n",
    "vehicle = Vehicle()\n",
    "car = Car()\n",
    "bike = Bike()\n",
    "\n",
    "\n",
    "vehicle.move()\n",
    "car.move()\n",
    "bike.move()\n"
   ]
  },
  {
   "cell_type": "code",
   "execution_count": 5,
   "id": "b0d2e841-0a1d-4ec6-96af-d71b5953550d",
   "metadata": {},
   "outputs": [
    {
     "name": "stdout",
     "output_type": "stream",
     "text": [
      "Function 'greet' is called\n",
      "Hello, sam!\n",
      "Function'greet' finished execution\n"
     ]
    }
   ],
   "source": [
    "# Decorator in python>>>>>>>>>>>>>>>\n",
    "# In python decorator are a way to modify or inhance the behaviour of a functions or methods without directly changing there code\n",
    "def log_decorator (func):\n",
    "    def wrapper (*args, **kwargs) :\n",
    "        print(f\"Function '{func.__name__}' is called\")\n",
    "        result = func(*args, **kwargs) # Call the original function\n",
    "        print(f\"Function'{func.__name__}' finished execution\")\n",
    "        return result\n",
    "    return wrapper\n",
    "# Using the decorator\n",
    "@log_decorator\n",
    "def greet (name) :\n",
    " print(f\"Hello, {name}!\")\n",
    "#call the function\n",
    "greet(\"sam\")"
   ]
  },
  {
   "cell_type": "code",
   "execution_count": 15,
   "id": "63427e24-8ca4-4f68-8ab8-b522901bac02",
   "metadata": {},
   "outputs": [
    {
     "name": "stdout",
     "output_type": "stream",
     "text": [
      "1\n",
      "2\n",
      "3\n",
      "4\n",
      "5\n"
     ]
    }
   ],
   "source": [
    "# What are generator in python\n",
    "# GEnerator in pythonn are a way to create a iterator in a simple and manually efficient way instead of creating a entire sequence in a memory at once a genrator produce items one at a time and only when needed this is specially useful when dealing with large datasets or infinity sequence a genertor function is like a function but uses the yield keyword instead of return when the genrator is called it does not execute the function completely instead it return the genrator objects that can be iterated over\n",
    "# <<<<KEY POINTS>>>\n",
    "# 1. Memory efficient:-- genrator donot store the entire sequence in the memory\n",
    "# 2. lazy :- values are produced only when require\n",
    "# 3. State retention :- the function state is saved between yield calls\n",
    "def number_generator():\n",
    "     for i in range(1,6):\n",
    "         yield i\n",
    "# using the generator\n",
    "gen = number_generator()\n",
    "for num in gen:\n",
    "    print(num)"
   ]
  },
  {
   "cell_type": "code",
   "execution_count": 17,
   "id": "e00ccb5d-3751-4d73-be46-fd67a99ee7dc",
   "metadata": {},
   "outputs": [
    {
     "name": "stdout",
     "output_type": "stream",
     "text": [
      "1\n",
      "4\n",
      "9\n",
      "16\n",
      "25\n"
     ]
    }
   ],
   "source": [
    "#A generator function to yield squares of numbers\n",
    "def square_generator(n):\n",
    "    for i in range(1,n+1):\n",
    "        yield i*i\n",
    "#using the genrator to print squares of numbers from 1 to 5\n",
    "squares= square_generator(5)\n",
    "for square in squares:\n",
    "    print(square)"
   ]
  },
  {
   "cell_type": "code",
   "execution_count": null,
   "id": "0912a285-4472-4db0-a9cb-29e4576fc623",
   "metadata": {},
   "outputs": [],
   "source": []
  }
 ],
 "metadata": {
  "kernelspec": {
   "display_name": "Python 3 (ipykernel)",
   "language": "python",
   "name": "python3"
  },
  "language_info": {
   "codemirror_mode": {
    "name": "ipython",
    "version": 3
   },
   "file_extension": ".py",
   "mimetype": "text/x-python",
   "name": "python",
   "nbconvert_exporter": "python",
   "pygments_lexer": "ipython3",
   "version": "3.13.3"
  }
 },
 "nbformat": 4,
 "nbformat_minor": 5
}
