{
 "cells": [
  {
   "cell_type": "code",
   "execution_count": 1,
   "id": "a4a7127d-f187-421e-bf5d-022aeef7680b",
   "metadata": {},
   "outputs": [
    {
     "name": "stdout",
     "output_type": "stream",
     "text": [
      "2\n",
      "4\n",
      "6\n",
      "8\n",
      "10\n",
      "12\n",
      "14\n",
      "16\n",
      "18\n",
      "20\n",
      "22\n"
     ]
    }
   ],
   "source": [
    "i=1\n",
    "while(i<=22):\n",
    "    if(i%2==0):\n",
    "        print(i)\n",
    "    i+=1"
   ]
  },
  {
   "cell_type": "code",
   "execution_count": 2,
   "id": "6c5e365c-962f-4483-bb60-a5579bd475d2",
   "metadata": {},
   "outputs": [
    {
     "name": "stdout",
     "output_type": "stream",
     "text": [
      "45\n",
      "42\n",
      "39\n",
      "36\n",
      "33\n",
      "30\n",
      "27\n",
      "24\n",
      "21\n",
      "18\n",
      "15\n",
      "12\n",
      "9\n",
      "6\n"
     ]
    }
   ],
   "source": [
    "i=47\n",
    "while(i>=5):\n",
    "    if(i%3==0):\n",
    "        print(i)\n",
    "    i-=1"
   ]
  },
  {
   "cell_type": "code",
   "execution_count": null,
   "id": "9a27402f-584b-4c4b-995c-13dd27c0d181",
   "metadata": {},
   "outputs": [],
   "source": [
    "num=7\n",
    "i=1\n",
    "while(i<=7):\n",
    "    if(num%i==0):\n",
    "       print(i)\n",
    "    i+=1"
   ]
  },
  {
   "cell_type": "code",
   "execution_count": 6,
   "id": "ae86c4a0-652e-4b33-b096-1ef5973e9e26",
   "metadata": {},
   "outputs": [
    {
     "name": "stdout",
     "output_type": "stream",
     "text": [
      "26\n"
     ]
    }
   ],
   "source": [
    "i=100\n",
    "count=0\n",
    "while(i>=49):\n",
    "  if(i%2!=0):\n",
    "    count=count+1\n",
    "  i-=1\n",
    "print(count)"
   ]
  },
  {
   "cell_type": "code",
   "execution_count": 5,
   "id": "603e27ae-a816-4c4f-9d7d-256c0d58ba91",
   "metadata": {},
   "outputs": [
    {
     "name": "stdout",
     "output_type": "stream",
     "text": [
      "i= 0 r\n",
      "i= 1 a\n",
      "i= 2 j\n",
      "i= 3 u\n",
      "i= 4 v\n"
     ]
    }
   ],
   "source": [
    "data=\"rajuv\"\n",
    "for i in range (0,len(data)):\n",
    "    print(\"i=\",i,data[i])"
   ]
  },
  {
   "cell_type": "code",
   "execution_count": 11,
   "id": "ae6dedbb-65c7-4fd9-9ce9-420817d8d85b",
   "metadata": {},
   "outputs": [
    {
     "name": "stdout",
     "output_type": "stream",
     "text": [
      "i=> 0 j\n",
      "i=> 1 j\n",
      "i=> 2 j\n",
      "i=> 3 j\n",
      "i=> 4 j\n"
     ]
    }
   ],
   "source": [
    "data=\"rajuv\"\n",
    "i=0\n",
    "while(i<len(data)):\n",
    "    print(\"i=>\",i,data[i])\n",
    "    i+=1"
   ]
  },
  {
   "cell_type": "code",
   "execution_count": 14,
   "id": "92de2eea-1a9b-462f-a213-71733add7c71",
   "metadata": {},
   "outputs": [
    {
     "name": "stdout",
     "output_type": "stream",
     "text": [
      "vowels a\n",
      "vowels u\n"
     ]
    }
   ],
   "source": [
    "data=\"rajuv\"\n",
    "i=0\n",
    "while(i<len(data)):\n",
    "    if(data[i]==\"a\" or data[i]==\"e\" or data[i]==\"i\" or data[i]==\"o\" or data[i]==\"u\"):\n",
    "      print(\"vowels\",data[i])\n",
    "    i+=1"
   ]
  },
  {
   "cell_type": "code",
   "execution_count": 15,
   "id": "42d1219b-3406-496b-9f32-d783bbdfd417",
   "metadata": {},
   "outputs": [
    {
     "name": "stdout",
     "output_type": "stream",
     "text": [
      "first 7 21\n",
      "first 1 2\n",
      "first 2 0\n"
     ]
    }
   ],
   "source": [
    "num=217\n",
    "while(num>0):\n",
    "    rem=num%10\n",
    "    num=num//10\n",
    "    print(\"first\",rem,num)"
   ]
  },
  {
   "cell_type": "code",
   "execution_count": null,
   "id": "ef152254-cbab-49ee-babd-73300401655a",
   "metadata": {},
   "outputs": [],
   "source": [
    "num=12\n",
    "sum=0\n",
    "while(num>0):\n",
    "    sum=sum+num%10\n",
    "    num=num//10\n",
    "    print(num)\n",
    "    num+=1"
   ]
  },
  {
   "cell_type": "code",
   "execution_count": null,
   "id": "3ff0e3c2-08c9-4fc5-8c35-1172f4883916",
   "metadata": {},
   "outputs": [],
   "source": []
  }
 ],
 "metadata": {
  "kernelspec": {
   "display_name": "Python 3 (ipykernel)",
   "language": "python",
   "name": "python3"
  },
  "language_info": {
   "codemirror_mode": {
    "name": "ipython",
    "version": 3
   },
   "file_extension": ".py",
   "mimetype": "text/x-python",
   "name": "python",
   "nbconvert_exporter": "python",
   "pygments_lexer": "ipython3",
   "version": "3.13.3"
  }
 },
 "nbformat": 4,
 "nbformat_minor": 5
}
