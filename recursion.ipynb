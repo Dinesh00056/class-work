{
 "cells": [
  {
   "cell_type": "code",
   "execution_count": 4,
   "id": "92cb9d3a-0643-44da-a45a-2220a16463f3",
   "metadata": {},
   "outputs": [
    {
     "name": "stdout",
     "output_type": "stream",
     "text": [
      "The factorial of 5 is 120\n"
     ]
    }
   ],
   "source": [
    "# Recursion in python refers to a process where a function call itself to solve smaller instance of the same problem. In oops recursion can be used within class method to perform repetitive class\n",
    "# <<<<Key Fetaures>>>>>\n",
    "# 1.>> Base Case:- A condition that stop the recursion to perveent infinite calls \n",
    "# 2.>> Recursive Case:- The part where the fuction call itself with a modify arguments \n",
    "\n",
    "# Example: Factorial Calculation Using Recursion in OOP\n",
    "class FactorialCalculator:\n",
    "    def calculate_factorial (self,n):\n",
    "    # Base case: factorial of e or 1 is 1\n",
    "        if n == 0 or n == 1:\n",
    "            return 1\n",
    "        else:\n",
    "        # Recursive case: n* factorial of (n-1)\n",
    "            return n * self. calculate_factorial(n - 1)\n",
    "calculator = FactorialCalculator ()\n",
    "number = 5\n",
    "result = calculator.calculate_factorial (number)\n",
    "print(f\"The factorial of {number} is {result}\")"
   ]
  },
  {
   "cell_type": "code",
   "execution_count": 14,
   "id": "d1ef81d8-4f94-4b2a-b9ca-54e5b791cb72",
   "metadata": {},
   "outputs": [
    {
     "name": "stdout",
     "output_type": "stream",
     "text": [
      "Medical record added for Rohit.\n",
      "Medical record added for Rohit.\n",
      "Medical record added for Rohit.\n",
      "Medical History for Rohit: ['Fever', 'Headache', 'covid']\n"
     ]
    }
   ],
   "source": [
    "# <<<<<Case Study 1: Healthcare System (Patient Record Management)\n",
    "# >>>Problem: Develop a system for managing patient records in a hospital where:\n",
    "# >>>Patient details (name, age, and medical history) should be private.\n",
    "# >>>Only authorized methods can retrieve or update medical history.\n",
    "# >>>Provide a method to add new medical records while keeping previous data secure.\n",
    "class Patient:\n",
    "    def __init__ (self, name, age):\n",
    "        self.__name = name            # Encapsulated name\n",
    "        self.__age = age              # Encapsulated age\n",
    "        self.__medical_history = []   # Encapsulated medical history\n",
    "\n",
    "    def add_medical_record(self, record):\n",
    "        self.__medical_history. append (record)\n",
    "        return f\"Medical record added for {self.__name}.\"\n",
    "    def get_medical_history (self):\n",
    "        return f\"Medical History for {self.__name}: {self.__medical_history}\"\n",
    "# Usage\n",
    "patient = Patient (\"Rohit\", 30)\n",
    "print(patient.add_medical_record(\"Fever\"))\n",
    "print(patient.add_medical_record(\"Headache\"))\n",
    "print(patient.add_medical_record(\"covid\"))\n",
    "print(patient.get_medical_history())#retrieve medical history"
   ]
  },
  {
   "cell_type": "code",
   "execution_count": 18,
   "id": "77968b60-428f-4b1c-b9a6-17033bbc1c9b",
   "metadata": {},
   "outputs": [
    {
     "name": "stdout",
     "output_type": "stream",
     "text": [
      "Balance: 500\n",
      "Deposited: 5000\n",
      "Balance: 5500\n",
      "Withdraw: 3000\n",
      "Balance: 2500\n"
     ]
    }
   ],
   "source": [
    "# solve a  problem \n",
    "class BankAccount:\n",
    "    def __init__(self,name, balance=0):\n",
    "        self.name = name\n",
    "        self.balance = balance\n",
    "\n",
    "    def deposit(self, amount):\n",
    "        self.balance += amount\n",
    "        print(\"Deposited:\", amount)\n",
    "\n",
    "    def withdraw(self, amount):\n",
    "        if amount > self.balance:\n",
    "            print(\"Not enough money.\")\n",
    "        else:\n",
    "            self.balance -= amount\n",
    "            print(\"Withdraw:\", amount)\n",
    "\n",
    "    def show_balance(self):\n",
    "        print(\"Balance:\", self.balance)\n",
    "account = BankAccount('anil',500)\n",
    "account.show_balance()    \n",
    "account.deposit(5000) \n",
    "account.show_balance() \n",
    "account.withdraw(3000)   \n",
    "account.show_balance()"
   ]
  },
  {
   "cell_type": "code",
   "execution_count": null,
   "id": "90b9e91a-1255-4944-8305-1f9aa03a0389",
   "metadata": {},
   "outputs": [],
   "source": []
  }
 ],
 "metadata": {
  "kernelspec": {
   "display_name": "Python 3 (ipykernel)",
   "language": "python",
   "name": "python3"
  },
  "language_info": {
   "codemirror_mode": {
    "name": "ipython",
    "version": 3
   },
   "file_extension": ".py",
   "mimetype": "text/x-python",
   "name": "python",
   "nbconvert_exporter": "python",
   "pygments_lexer": "ipython3",
   "version": "3.13.3"
  }
 },
 "nbformat": 4,
 "nbformat_minor": 5
}
