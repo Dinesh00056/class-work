{
 "cells": [
  {
   "cell_type": "code",
   "execution_count": 1,
   "id": "2a6cc710-f8fe-4902-84ae-1acacd13e3e7",
   "metadata": {},
   "outputs": [
    {
     "name": "stdout",
     "output_type": "stream",
     "text": [
      "[14, 15, 47, 945, 94.5]\n"
     ]
    }
   ],
   "source": [
    "mylist=[14,15,47,945,94.5]\n",
    "print(mylist)"
   ]
  },
  {
   "cell_type": "code",
   "execution_count": 7,
   "id": "8d7cd4da-407d-428c-824b-ac3bc4b8148a",
   "metadata": {},
   "outputs": [
    {
     "name": "stdout",
     "output_type": "stream",
     "text": [
      "[14, 15, 47, 945, 94.5]\n",
      "<class 'list'>\n",
      "47\n",
      "5\n"
     ]
    }
   ],
   "source": [
    "mylist=[14,15,47,945,94.5]\n",
    "print(mylist)\n",
    "print(type(mylist))\n",
    "print(mylist[2])\n",
    "print(len(mylist))"
   ]
  },
  {
   "cell_type": "code",
   "execution_count": 8,
   "id": "7e3c780a-75c9-4258-8ff4-b4d79ccb91b0",
   "metadata": {},
   "outputs": [
    {
     "name": "stdout",
     "output_type": "stream",
     "text": [
      "[1, 42, 15, 4]\n"
     ]
    }
   ],
   "source": [
    "list=[1,42,15]\n",
    "list.append(4)\n",
    "print(list)"
   ]
  },
  {
   "cell_type": "code",
   "execution_count": 10,
   "id": "d658fe14-3136-4d4e-aa01-f107fc34e6bd",
   "metadata": {},
   "outputs": [
    {
     "name": "stdout",
     "output_type": "stream",
     "text": [
      "None\n",
      "[1, 15, 42]\n"
     ]
    }
   ],
   "source": [
    "list=[1,42,15]\n",
    "print(list.sort())\n",
    "print(list)"
   ]
  },
  {
   "cell_type": "code",
   "execution_count": 19,
   "id": "fd532abc-dc11-4abf-abaa-82b4c1f34e03",
   "metadata": {},
   "outputs": [
    {
     "name": "stdout",
     "output_type": "stream",
     "text": [
      "None\n",
      "[47, 45, 16, 12, 10, 5]\n",
      "None\n",
      "<class 'list'>\n",
      "7\n"
     ]
    }
   ],
   "source": [
    "list=[10,5,45,12,16,47]\n",
    "print(list.sort(reverse=True))\n",
    "print(list)\n",
    "print(list.append(4))\n",
    "print(type(list))\n",
    "print(len(list))\n",
    "\n"
   ]
  },
  {
   "cell_type": "code",
   "execution_count": 20,
   "id": "f9f0a0c5-d3cf-42b1-be11-f4f9cc455f42",
   "metadata": {},
   "outputs": [
    {
     "name": "stdout",
     "output_type": "stream",
     "text": [
      "None\n",
      "['mavish', 'kumar', 'apple']\n"
     ]
    }
   ],
   "source": [
    "list=['apple','kumar','mavish']\n",
    "print(list.sort(reverse=True))\n",
    "print(list)"
   ]
  },
  {
   "cell_type": "code",
   "execution_count": 25,
   "id": "880287a0-87fc-4c52-9145-76843ecd4afb",
   "metadata": {},
   "outputs": [
    {
     "name": "stdout",
     "output_type": "stream",
     "text": [
      "[4, 6, 7, 8, 5, 10]\n"
     ]
    }
   ],
   "source": [
    "list=[10,5,8,7,6,4]\n",
    "list.reverse()\n",
    "print(list)"
   ]
  },
  {
   "cell_type": "code",
   "execution_count": 26,
   "id": "779b28a8-00d1-467d-bae9-b66ea0a207ea",
   "metadata": {},
   "outputs": [
    {
     "name": "stdout",
     "output_type": "stream",
     "text": [
      "[1, 5, 2, 3]\n"
     ]
    }
   ],
   "source": [
    "list=[1,2,3]\n",
    "list.insert(1,5)\n",
    "print(list)"
   ]
  },
  {
   "cell_type": "code",
   "execution_count": 27,
   "id": "3fa90325-620b-4955-a3cc-4215a42d30f4",
   "metadata": {},
   "outputs": [
    {
     "name": "stdout",
     "output_type": "stream",
     "text": [
      "[1, 5, 8]\n"
     ]
    }
   ],
   "source": [
    "list=[1,5,8,6]\n",
    "list.pop(3)\n",
    "print(list)"
   ]
  },
  {
   "cell_type": "code",
   "execution_count": 3,
   "id": "8ea32db5-a9e6-4419-9fc9-943c84d6af7e",
   "metadata": {},
   "outputs": [
    {
     "name": "stdin",
     "output_type": "stream",
     "text": [
      "enter the film: abc\n",
      "enter the film: def\n",
      "enter the film: fgh\n"
     ]
    },
    {
     "name": "stdout",
     "output_type": "stream",
     "text": [
      "['abc', 'def', 'fgh']\n"
     ]
    }
   ],
   "source": [
    "movies=[]\n",
    "a=str(input(\"enter the film:\"))\n",
    "b=str(input(\"enter the film:\"))\n",
    "c=str(input(\"enter the film:\"))\n",
    "movies.append(a)\n",
    "movies.append(b)\n",
    "movies.append(c)\n",
    "print(movies)"
   ]
  },
  {
   "cell_type": "code",
   "execution_count": 5,
   "id": "584d6afd-a9b4-4ba2-9f36-53891a689f52",
   "metadata": {},
   "outputs": [
    {
     "name": "stdin",
     "output_type": "stream",
     "text": [
      "enter the film: abc\n",
      "enter the film: bcf\n",
      "enter the film: dfg\n"
     ]
    },
    {
     "name": "stdout",
     "output_type": "stream",
     "text": [
      "['abc', 'bcf', 'dfg']\n"
     ]
    }
   ],
   "source": [
    "movies=[]\n",
    "movies.append(input(\"enter the film:\"))\n",
    "movies.append(input(\"enter the film:\"))\n",
    "movies.append(input(\"enter the film:\"))\n",
    "\n",
    "print(movies)"
   ]
  },
  {
   "cell_type": "code",
   "execution_count": null,
   "id": "2d2943e7-29e4-46b0-b17d-da59ebc652e3",
   "metadata": {},
   "outputs": [],
   "source": []
  }
 ],
 "metadata": {
  "kernelspec": {
   "display_name": "Python 3 (ipykernel)",
   "language": "python",
   "name": "python3"
  },
  "language_info": {
   "codemirror_mode": {
    "name": "ipython",
    "version": 3
   },
   "file_extension": ".py",
   "mimetype": "text/x-python",
   "name": "python",
   "nbconvert_exporter": "python",
   "pygments_lexer": "ipython3",
   "version": "3.13.3"
  }
 },
 "nbformat": 4,
 "nbformat_minor": 5
}
